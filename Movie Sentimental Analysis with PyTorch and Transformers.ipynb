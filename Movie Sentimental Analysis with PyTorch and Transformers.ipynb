{
 "cells": [
  {
   "cell_type": "markdown",
   "metadata": {
    "toc": true
   },
   "source": [
    "<h1>Table of Contents<span class=\"tocSkip\"></span></h1>\n",
    "<div class=\"toc\"><ul class=\"toc-item\"><li><span><a href=\"#Importing-Dependencies\" data-toc-modified-id=\"Importing-Dependencies-1\"><span class=\"toc-item-num\">1&nbsp;&nbsp;</span>Importing Dependencies</a></span></li><li><span><a href=\"#Preparing-Dataset\" data-toc-modified-id=\"Preparing-Dataset-2\"><span class=\"toc-item-num\">2&nbsp;&nbsp;</span>Preparing Dataset</a></span><ul class=\"toc-item\"><li><span><a href=\"#Combine-text-files-into-single-files-and-pickle-it-for-later-use\" data-toc-modified-id=\"Combine-text-files-into-single-files-and-pickle-it-for-later-use-2.1\"><span class=\"toc-item-num\">2.1&nbsp;&nbsp;</span>Combine text files into single files and pickle it for later use</a></span><ul class=\"toc-item\"><li><span><a href=\"#Combining-individual-text-files-to-a-single-text-file\" data-toc-modified-id=\"Combining-individual-text-files-to-a-single-text-file-2.1.1\"><span class=\"toc-item-num\">2.1.1&nbsp;&nbsp;</span>Combining individual text files to a single text file</a></span></li><li><span><a href=\"#Dump-the-directory-for-reference\" data-toc-modified-id=\"Dump-the-directory-for-reference-2.1.2\"><span class=\"toc-item-num\">2.1.2&nbsp;&nbsp;</span>Dump the directory for reference</a></span></li></ul></li></ul></li><li><span><a href=\"#Text-Preprocessing\" data-toc-modified-id=\"Text-Preprocessing-3\"><span class=\"toc-item-num\">3&nbsp;&nbsp;</span>Text Preprocessing</a></span><ul class=\"toc-item\"><li><span><a href=\"#Data-Cleaning\" data-toc-modified-id=\"Data-Cleaning-3.1\"><span class=\"toc-item-num\">3.1&nbsp;&nbsp;</span>Data Cleaning</a></span><ul class=\"toc-item\"><li><span><a href=\"#Dump-the-Preprocessed-Data\" data-toc-modified-id=\"Dump-the-Preprocessed-Data-3.1.1\"><span class=\"toc-item-num\">3.1.1&nbsp;&nbsp;</span>Dump the Preprocessed Data</a></span></li><li><span><a href=\"#Load-the-Preprocessed-files\" data-toc-modified-id=\"Load-the-Preprocessed-files-3.1.2\"><span class=\"toc-item-num\">3.1.2&nbsp;&nbsp;</span>Load the Preprocessed files</a></span></li></ul></li><li><span><a href=\"#Tokenization\" data-toc-modified-id=\"Tokenization-3.2\"><span class=\"toc-item-num\">3.2&nbsp;&nbsp;</span>Tokenization</a></span></li><li><span><a href=\"#Create-Dataset-and-DataLoader\" data-toc-modified-id=\"Create-Dataset-and-DataLoader-3.3\"><span class=\"toc-item-num\">3.3&nbsp;&nbsp;</span>Create Dataset and DataLoader</a></span></li></ul></li><li><span><a href=\"#Create-Classification-model\" data-toc-modified-id=\"Create-Classification-model-4\"><span class=\"toc-item-num\">4&nbsp;&nbsp;</span>Create Classification model</a></span><ul class=\"toc-item\"><li><span><a href=\"#Training-iteration\" data-toc-modified-id=\"Training-iteration-4.1\"><span class=\"toc-item-num\">4.1&nbsp;&nbsp;</span>Training iteration</a></span><ul class=\"toc-item\"><li><span><a href=\"#Train-Function\" data-toc-modified-id=\"Train-Function-4.1.1\"><span class=\"toc-item-num\">4.1.1&nbsp;&nbsp;</span>Train Function</a></span></li><li><span><a href=\"#Evaluaton-Function\" data-toc-modified-id=\"Evaluaton-Function-4.1.2\"><span class=\"toc-item-num\">4.1.2&nbsp;&nbsp;</span>Evaluaton Function</a></span></li><li><span><a href=\"#Training-loop\" data-toc-modified-id=\"Training-loop-4.1.3\"><span class=\"toc-item-num\">4.1.3&nbsp;&nbsp;</span>Training loop</a></span></li></ul></li></ul></li><li><span><a href=\"#Evaluate-the-model\" data-toc-modified-id=\"Evaluate-the-model-5\"><span class=\"toc-item-num\">5&nbsp;&nbsp;</span>Evaluate the model</a></span></li><li><span><a href=\"#Vistualize-Result\" data-toc-modified-id=\"Vistualize-Result-6\"><span class=\"toc-item-num\">6&nbsp;&nbsp;</span>Vistualize Result</a></span></li><li><span><a href=\"#Predict-Raw-Text\" data-toc-modified-id=\"Predict-Raw-Text-7\"><span class=\"toc-item-num\">7&nbsp;&nbsp;</span>Predict Raw Text</a></span></li></ul></div>"
   ]
  },
  {
   "cell_type": "markdown",
   "metadata": {},
   "source": [
    "## Importing Dependencies"
   ]
  },
  {
   "cell_type": "code",
   "execution_count": 1,
   "metadata": {},
   "outputs": [],
   "source": [
    "import transformers\n",
    "from transformers import BertTokenizer, BertModel, AdamW, get_linear_schedule_with_warmup\n",
    "\n",
    "\n",
    "import torch\n",
    "from torch.utils import data\n",
    "import torch.nn as nn\n",
    "\n",
    "from sklearn.model_selection import train_test_split\n",
    "from sklearn.metrics import classification_report, confusion_matrix"
   ]
  },
  {
   "cell_type": "code",
   "execution_count": 2,
   "metadata": {},
   "outputs": [],
   "source": [
    "import numpy as np\n",
    "import pandas as pd\n",
    "from collections import defaultdict\n",
    "import matplotlib.pyplot as plt\n",
    "import seaborn as sns"
   ]
  },
  {
   "cell_type": "code",
   "execution_count": 3,
   "metadata": {},
   "outputs": [],
   "source": [
    "%matplotlib inline\n",
    "sns.set(style = 'whitegrid')"
   ]
  },
  {
   "cell_type": "markdown",
   "metadata": {},
   "source": [
    "## Preparing Dataset"
   ]
  },
  {
   "cell_type": "code",
   "execution_count": 4,
   "metadata": {},
   "outputs": [],
   "source": [
    "from pathlib import Path\n",
    "import pickle "
   ]
  },
  {
   "cell_type": "markdown",
   "metadata": {},
   "source": [
    "### Combine text files into single files and pickle it for later use"
   ]
  },
  {
   "cell_type": "markdown",
   "metadata": {},
   "source": [
    "#### Combining individual text files to a single text file\n"
   ]
  },
  {
   "cell_type": "code",
   "execution_count": 5,
   "metadata": {},
   "outputs": [],
   "source": [
    "# def combining_text_files(directory):\n",
    "#     for dir_ in directory:\n",
    "#         current_directory = Path(dir_)\n",
    "#         txt_files = current_directory.rglob('*.txt')\n",
    "#         files_directory = [lines.__str__() for lines in current_directory.rglob('*.txt')]\n",
    "#         files = [str(lines.read_bytes(), 'UTF-8') for lines in current_directory.rglob('*.txt')]\n",
    "#         yield files_directory, files"
   ]
  },
  {
   "cell_type": "code",
   "execution_count": 6,
   "metadata": {},
   "outputs": [],
   "source": [
    "# main_directory = Path.cwd()/'Dataset'/'aclImdb'\n",
    "# folder_directory = [Path(main_directory)/case/label for case in ['train','test'] for label in ['pos','neg']]\n",
    "# (train_pos_directory, train_pos), (train_neg_directory, train_neg), (test_pos_directory, test_pos), (test_neg_directory, test_neg) = combining_text_files(folder_directory)"
   ]
  },
  {
   "cell_type": "markdown",
   "metadata": {},
   "source": [
    "#### Dump the directory for reference"
   ]
  },
  {
   "cell_type": "code",
   "execution_count": 7,
   "metadata": {},
   "outputs": [],
   "source": [
    "# with open('train_pos_directory.txt','wb') as f:\n",
    "#     pickle.dump(train_pos_directory, f)\n",
    "# \n",
    "# with open('train_neg_directory.txt','wb') as f:\n",
    "#     pickle.dump(train_neg_directory, f)\n",
    "# \n",
    "# with open('test_pos_directory.txt','wb') as f:\n",
    "#     pickle.dump(test_pos_directory, f)\n",
    "# \n",
    "# with open('test_neg_directory.txt','wb') as f:\n",
    "#     pickle.dump(test_neg_directory, f)"
   ]
  },
  {
   "cell_type": "markdown",
   "metadata": {},
   "source": [
    "## Text Preprocessing"
   ]
  },
  {
   "cell_type": "markdown",
   "metadata": {},
   "source": [
    "### Data Cleaning"
   ]
  },
  {
   "cell_type": "code",
   "execution_count": 8,
   "metadata": {},
   "outputs": [],
   "source": [
    "# import re"
   ]
  },
  {
   "cell_type": "code",
   "execution_count": 9,
   "metadata": {},
   "outputs": [],
   "source": [
    "# def text_preproc(list_text):\n",
    "#     for text in list_text:\n",
    "#         #Remove html tags\n",
    "#         text = [re.sub(r'<[^>]+>', ' ', lines) for lines in text]\n",
    "        \n",
    "#         #Remove non letters charaters\n",
    "#         text = [re.sub(r'[^A-Za-z]',' ',lines) for lines in text]\n",
    "        \n",
    "#         #Remove * and . \n",
    "#         text = [re.sub(r'[*.]', '', lines) for lines in text]\n",
    "#         #Remove excessive whitespace\n",
    "#         text = [re.sub(r'\\s+', ' ', lines) for lines in text]\n",
    "#         yield text"
   ]
  },
  {
   "cell_type": "code",
   "execution_count": 10,
   "metadata": {},
   "outputs": [],
   "source": [
    "# train_pos,train_neg,test_pos,test_neg = text_preproc([train_pos,train_neg,test_pos,test_neg])"
   ]
  },
  {
   "cell_type": "markdown",
   "metadata": {},
   "source": [
    "#### Dump the Preprocessed Data"
   ]
  },
  {
   "cell_type": "code",
   "execution_count": 11,
   "metadata": {},
   "outputs": [],
   "source": [
    "# with open('train_pos.txt','wb') as f:\n",
    "#      pickle.dump(train_pos, f)\n",
    "# with open('train_neg.txt','wb') as f:\n",
    "#      pickle.dump(train_neg, f)\n",
    "# with open('test_pos.txt','wb') as f:\n",
    "#      pickle.dump(test_pos, f)\n",
    "# with open('test_neg.txt','wb' )as f:\n",
    "#      pickle.dump(test_neg, f)"
   ]
  },
  {
   "cell_type": "markdown",
   "metadata": {},
   "source": [
    "#### Load the Preprocessed files"
   ]
  },
  {
   "cell_type": "code",
   "execution_count": 12,
   "metadata": {},
   "outputs": [],
   "source": [
    "# Opening the text files \n",
    "with open('train_pos.txt','rb') as f:\n",
    "    train_pos = pickle.load(f)\n",
    "    \n",
    "with open('train_neg.txt','rb') as f:\n",
    "    train_neg = pickle.load(f)\n",
    "    \n",
    "with open('test_pos.txt','rb') as f:\n",
    "    test_pos = pickle.load(f)\n",
    "    \n",
    "with open('test_neg.txt','rb' )as f:\n",
    "    test_neg = pickle.load(f)"
   ]
  },
  {
   "cell_type": "code",
   "execution_count": 13,
   "metadata": {},
   "outputs": [],
   "source": [
    "train_data = train_pos + train_neg\n",
    "test_data = test_pos + test_neg"
   ]
  },
  {
   "cell_type": "code",
   "execution_count": 14,
   "metadata": {},
   "outputs": [],
   "source": [
    "# 1 for positive review and 0 for negative review\n",
    "train_label = [1]*len(train_pos)+[0]*len(train_neg)\n",
    "test_label = [1]*len(test_pos)+[0]*len(test_neg)"
   ]
  },
  {
   "cell_type": "code",
   "execution_count": 15,
   "metadata": {},
   "outputs": [],
   "source": [
    "train_df = pd.DataFrame({'reviews' : train_data,\n",
    "                         'label' : train_label}\n",
    "                       )\n",
    "test_df = pd.DataFrame({'reviews' : test_data,\n",
    "                        'label' : test_label}\n",
    "                      )"
   ]
  },
  {
   "cell_type": "code",
   "execution_count": 16,
   "metadata": {},
   "outputs": [],
   "source": [
    "val_df, test_df = train_test_split(test_df,\n",
    "                                   train_size = 0.5\n",
    "                                  )"
   ]
  },
  {
   "cell_type": "markdown",
   "metadata": {},
   "source": [
    "### Tokenization"
   ]
  },
  {
   "cell_type": "markdown",
   "metadata": {},
   "source": [
    "Since we have large corpus, we will split them into chuck of 300 words each with the first 50 words overlapped \n",
    "\n",
    "Generally, bert model can support max_length up to 512 tokens\n"
   ]
  },
  {
   "cell_type": "code",
   "execution_count": 17,
   "metadata": {},
   "outputs": [],
   "source": [
    "Tokenizer = BertTokenizer.from_pretrained('bert-base-uncased', do_lower_case = True)"
   ]
  },
  {
   "cell_type": "code",
   "execution_count": 18,
   "metadata": {},
   "outputs": [],
   "source": [
    "def split_large_corpus(text):\n",
    "    text_total= []\n",
    "    text = text.split()\n",
    "    no_list_split = 1 if (len(text)-300)//250 < 0 else (len(text)-300)//250+2\n",
    "    for no in range(no_list_split):\n",
    "        text_total.append(' '.join(text[no*250:no*250+300]))\n",
    "    return text_total"
   ]
  },
  {
   "cell_type": "code",
   "execution_count": 19,
   "metadata": {},
   "outputs": [],
   "source": [
    "train_df.reviews = train_df.reviews.apply(split_large_corpus)\n",
    "val_df.reviews = val_df.reviews.apply(split_large_corpus)\n",
    "test_df.reviews = test_df.reviews.apply(split_large_corpus)"
   ]
  },
  {
   "cell_type": "markdown",
   "metadata": {},
   "source": [
    "### Create Dataset and DataLoader"
   ]
  },
  {
   "cell_type": "markdown",
   "metadata": {},
   "source": [
    " function__call__ will return 3 outputs:\n",
    "1. input_ids : list of token ids\n",
    "2. token_type_ids : 0 for odd sentence; 1 for even sentence\n",
    "3. attention_mask : 1 for tokens to be have attention ; 0 for the padded values"
   ]
  },
  {
   "cell_type": "code",
   "execution_count": 20,
   "metadata": {},
   "outputs": [],
   "source": [
    "# def tokenize_padding_text(train_data):\n",
    "#     input_ids = []\n",
    "#     for sent in train_data:\n",
    "#         encoded_sent = Tokenizer.__call__(sent,\n",
    "#                                           add_special_tokens = True,\n",
    "#                                           max_length = 500,\n",
    "#                                           padding = 'max_length',\n",
    "#                                           truncation = True,\n",
    "#                                           return_attention_mask = True,\n",
    "#                                           is_split_into_words=True,\n",
    "#                                           return_token_type_ids = False,\n",
    "#                                           return_tensors = 'pt'\n",
    "#                                           )\n",
    "#         input_ids.append(encoded_sent)\n",
    "#     return input_ids"
   ]
  },
  {
   "cell_type": "code",
   "execution_count": 21,
   "metadata": {},
   "outputs": [],
   "source": [
    "# train_data_tokenized_padded = list(map(tokenize_padding_text,train_df.reviews))"
   ]
  },
  {
   "cell_type": "code",
   "execution_count": 22,
   "metadata": {},
   "outputs": [],
   "source": [
    "MAX_LEN = 500 \n",
    "BATCH_SIZE = 2 \n",
    "EPOCH = 5\n",
    "DROPOUT = 0.2\n",
    "NB_CLASSES = 2"
   ]
  },
  {
   "cell_type": "code",
   "execution_count": 23,
   "metadata": {},
   "outputs": [],
   "source": [
    "# Create Dataset\n",
    "class create_movie_dataset(data.Dataset):\n",
    "    def __init__ (self, reviews, label, tokenizer, MAX_LEN):\n",
    "        self.reviews = reviews\n",
    "        self.label = label\n",
    "        self.tokenizer = tokenizer\n",
    "        self.max_len = MAX_LEN\n",
    "    \n",
    "    def __len__(self):\n",
    "        return len(self.reviews)\n",
    "    \n",
    "    def __getitem__(self, item):\n",
    "        reviews = str(self.reviews[item])\n",
    "        label = self.label[item]\n",
    "        encoded_sent = self.tokenizer.__call__(reviews,\n",
    "                                              add_special_tokens = True,\n",
    "                                              max_length = self.max_len,\n",
    "                                              padding = 'max_length',\n",
    "                                              truncation = True,\n",
    "                                              return_attention_mask = True,\n",
    "                                              is_split_into_words=True,\n",
    "                                              return_token_type_ids = False,\n",
    "                                              return_tensors = 'pt'\n",
    "                                          )\n",
    "        return{'reviews' : reviews,\n",
    "               'input_ids':encoded_sent['input_ids'].flatten(),\n",
    "               'attention_mask':encoded_sent['attention_mask'].flatten(),\n",
    "               'label':torch.tensor(label)\n",
    "                }"
   ]
  },
  {
   "cell_type": "code",
   "execution_count": 24,
   "metadata": {},
   "outputs": [],
   "source": [
    "#Create Dataloader\n",
    "def create_data_loader(reviews, label, tokenizer, MAX_LEN, BATCH_SIZE):\n",
    "    ds = create_movie_dataset(reviews = reviews.to_numpy(), label = label.to_numpy(), tokenizer = tokenizer, MAX_LEN = MAX_LEN)\n",
    "    return data.DataLoader(ds,\n",
    "                           batch_size = BATCH_SIZE,\n",
    "                           shuffle = True\n",
    "                           )"
   ]
  },
  {
   "cell_type": "code",
   "execution_count": 25,
   "metadata": {},
   "outputs": [],
   "source": [
    "train_dataloader = create_data_loader(train_df.reviews, train_df.label, Tokenizer, MAX_LEN, BATCH_SIZE)\n",
    "val_dataloader = create_data_loader(val_df.reviews, val_df.label, Tokenizer, MAX_LEN, BATCH_SIZE)\n",
    "test_dataloader = create_data_loader(test_df .reviews, test_df.label, Tokenizer, MAX_LEN, BATCH_SIZE)"
   ]
  },
  {
   "cell_type": "markdown",
   "metadata": {},
   "source": [
    "## Create Classification model"
   ]
  },
  {
   "cell_type": "code",
   "execution_count": 26,
   "metadata": {},
   "outputs": [],
   "source": [
    "# # An additional layer required for pooling the output at the last layer of the model \n",
    "# last_hidden_layer, pooled_output = bertmodel(input_ids = train_data_tokenized_padded[1][0]['input_ids'],\n",
    "#                                              attention_mask = train_data_tokenized_padded[1][0]['attention_mask']\n",
    "#                                             )\n",
    "# print(f'last_hidden_layer= {last_hidden_layer.shape}, pooled_output = {pooled_output.shape}')"
   ]
  },
  {
   "cell_type": "code",
   "execution_count": 27,
   "metadata": {},
   "outputs": [],
   "source": [
    "class sentiment_classification(nn.Module):\n",
    "    def __init__ (self, dropout = DROPOUT, nb_classes = NB_CLASSES):\n",
    "        super(sentiment_classification, self).__init__()\n",
    "        self.bertmodel = BertModel.from_pretrained('bert-base-uncased')\n",
    "        self.drop = nn.Dropout(p = DROPOUT)\n",
    "        self.sigmoid = nn.Sigmoid()\n",
    "        if nb_classes >2: \n",
    "            self.out = nn.Linear(self.bertmodel.config.hidden_size, nb_classes) #last layer for the transfer learning\n",
    "        if nb_classes == 2:\n",
    "            self.out = nn.Linear(self.bertmodel.config.hidden_size, 1)\n",
    "    def forward(self, input_ids, attention_mask):\n",
    "        _ , pooled_output = self.bertmodel(input_ids = input_ids,\n",
    "                                           attention_mask = attention_mask)\n",
    "        output = self.drop(pooled_output)\n",
    "        output = self.out(output)\n",
    "        output = self.sigmoid(output)\n",
    "        return output"
   ]
  },
  {
   "cell_type": "code",
   "execution_count": 28,
   "metadata": {
    "scrolled": true
   },
   "outputs": [
    {
     "data": {
      "text/plain": [
       "sentiment_classification(\n",
       "  (bertmodel): BertModel(\n",
       "    (embeddings): BertEmbeddings(\n",
       "      (word_embeddings): Embedding(30522, 768, padding_idx=0)\n",
       "      (position_embeddings): Embedding(512, 768)\n",
       "      (token_type_embeddings): Embedding(2, 768)\n",
       "      (LayerNorm): LayerNorm((768,), eps=1e-12, elementwise_affine=True)\n",
       "      (dropout): Dropout(p=0.1, inplace=False)\n",
       "    )\n",
       "    (encoder): BertEncoder(\n",
       "      (layer): ModuleList(\n",
       "        (0): BertLayer(\n",
       "          (attention): BertAttention(\n",
       "            (self): BertSelfAttention(\n",
       "              (query): Linear(in_features=768, out_features=768, bias=True)\n",
       "              (key): Linear(in_features=768, out_features=768, bias=True)\n",
       "              (value): Linear(in_features=768, out_features=768, bias=True)\n",
       "              (dropout): Dropout(p=0.1, inplace=False)\n",
       "            )\n",
       "            (output): BertSelfOutput(\n",
       "              (dense): Linear(in_features=768, out_features=768, bias=True)\n",
       "              (LayerNorm): LayerNorm((768,), eps=1e-12, elementwise_affine=True)\n",
       "              (dropout): Dropout(p=0.1, inplace=False)\n",
       "            )\n",
       "          )\n",
       "          (intermediate): BertIntermediate(\n",
       "            (dense): Linear(in_features=768, out_features=3072, bias=True)\n",
       "          )\n",
       "          (output): BertOutput(\n",
       "            (dense): Linear(in_features=3072, out_features=768, bias=True)\n",
       "            (LayerNorm): LayerNorm((768,), eps=1e-12, elementwise_affine=True)\n",
       "            (dropout): Dropout(p=0.1, inplace=False)\n",
       "          )\n",
       "        )\n",
       "        (1): BertLayer(\n",
       "          (attention): BertAttention(\n",
       "            (self): BertSelfAttention(\n",
       "              (query): Linear(in_features=768, out_features=768, bias=True)\n",
       "              (key): Linear(in_features=768, out_features=768, bias=True)\n",
       "              (value): Linear(in_features=768, out_features=768, bias=True)\n",
       "              (dropout): Dropout(p=0.1, inplace=False)\n",
       "            )\n",
       "            (output): BertSelfOutput(\n",
       "              (dense): Linear(in_features=768, out_features=768, bias=True)\n",
       "              (LayerNorm): LayerNorm((768,), eps=1e-12, elementwise_affine=True)\n",
       "              (dropout): Dropout(p=0.1, inplace=False)\n",
       "            )\n",
       "          )\n",
       "          (intermediate): BertIntermediate(\n",
       "            (dense): Linear(in_features=768, out_features=3072, bias=True)\n",
       "          )\n",
       "          (output): BertOutput(\n",
       "            (dense): Linear(in_features=3072, out_features=768, bias=True)\n",
       "            (LayerNorm): LayerNorm((768,), eps=1e-12, elementwise_affine=True)\n",
       "            (dropout): Dropout(p=0.1, inplace=False)\n",
       "          )\n",
       "        )\n",
       "        (2): BertLayer(\n",
       "          (attention): BertAttention(\n",
       "            (self): BertSelfAttention(\n",
       "              (query): Linear(in_features=768, out_features=768, bias=True)\n",
       "              (key): Linear(in_features=768, out_features=768, bias=True)\n",
       "              (value): Linear(in_features=768, out_features=768, bias=True)\n",
       "              (dropout): Dropout(p=0.1, inplace=False)\n",
       "            )\n",
       "            (output): BertSelfOutput(\n",
       "              (dense): Linear(in_features=768, out_features=768, bias=True)\n",
       "              (LayerNorm): LayerNorm((768,), eps=1e-12, elementwise_affine=True)\n",
       "              (dropout): Dropout(p=0.1, inplace=False)\n",
       "            )\n",
       "          )\n",
       "          (intermediate): BertIntermediate(\n",
       "            (dense): Linear(in_features=768, out_features=3072, bias=True)\n",
       "          )\n",
       "          (output): BertOutput(\n",
       "            (dense): Linear(in_features=3072, out_features=768, bias=True)\n",
       "            (LayerNorm): LayerNorm((768,), eps=1e-12, elementwise_affine=True)\n",
       "            (dropout): Dropout(p=0.1, inplace=False)\n",
       "          )\n",
       "        )\n",
       "        (3): BertLayer(\n",
       "          (attention): BertAttention(\n",
       "            (self): BertSelfAttention(\n",
       "              (query): Linear(in_features=768, out_features=768, bias=True)\n",
       "              (key): Linear(in_features=768, out_features=768, bias=True)\n",
       "              (value): Linear(in_features=768, out_features=768, bias=True)\n",
       "              (dropout): Dropout(p=0.1, inplace=False)\n",
       "            )\n",
       "            (output): BertSelfOutput(\n",
       "              (dense): Linear(in_features=768, out_features=768, bias=True)\n",
       "              (LayerNorm): LayerNorm((768,), eps=1e-12, elementwise_affine=True)\n",
       "              (dropout): Dropout(p=0.1, inplace=False)\n",
       "            )\n",
       "          )\n",
       "          (intermediate): BertIntermediate(\n",
       "            (dense): Linear(in_features=768, out_features=3072, bias=True)\n",
       "          )\n",
       "          (output): BertOutput(\n",
       "            (dense): Linear(in_features=3072, out_features=768, bias=True)\n",
       "            (LayerNorm): LayerNorm((768,), eps=1e-12, elementwise_affine=True)\n",
       "            (dropout): Dropout(p=0.1, inplace=False)\n",
       "          )\n",
       "        )\n",
       "        (4): BertLayer(\n",
       "          (attention): BertAttention(\n",
       "            (self): BertSelfAttention(\n",
       "              (query): Linear(in_features=768, out_features=768, bias=True)\n",
       "              (key): Linear(in_features=768, out_features=768, bias=True)\n",
       "              (value): Linear(in_features=768, out_features=768, bias=True)\n",
       "              (dropout): Dropout(p=0.1, inplace=False)\n",
       "            )\n",
       "            (output): BertSelfOutput(\n",
       "              (dense): Linear(in_features=768, out_features=768, bias=True)\n",
       "              (LayerNorm): LayerNorm((768,), eps=1e-12, elementwise_affine=True)\n",
       "              (dropout): Dropout(p=0.1, inplace=False)\n",
       "            )\n",
       "          )\n",
       "          (intermediate): BertIntermediate(\n",
       "            (dense): Linear(in_features=768, out_features=3072, bias=True)\n",
       "          )\n",
       "          (output): BertOutput(\n",
       "            (dense): Linear(in_features=3072, out_features=768, bias=True)\n",
       "            (LayerNorm): LayerNorm((768,), eps=1e-12, elementwise_affine=True)\n",
       "            (dropout): Dropout(p=0.1, inplace=False)\n",
       "          )\n",
       "        )\n",
       "        (5): BertLayer(\n",
       "          (attention): BertAttention(\n",
       "            (self): BertSelfAttention(\n",
       "              (query): Linear(in_features=768, out_features=768, bias=True)\n",
       "              (key): Linear(in_features=768, out_features=768, bias=True)\n",
       "              (value): Linear(in_features=768, out_features=768, bias=True)\n",
       "              (dropout): Dropout(p=0.1, inplace=False)\n",
       "            )\n",
       "            (output): BertSelfOutput(\n",
       "              (dense): Linear(in_features=768, out_features=768, bias=True)\n",
       "              (LayerNorm): LayerNorm((768,), eps=1e-12, elementwise_affine=True)\n",
       "              (dropout): Dropout(p=0.1, inplace=False)\n",
       "            )\n",
       "          )\n",
       "          (intermediate): BertIntermediate(\n",
       "            (dense): Linear(in_features=768, out_features=3072, bias=True)\n",
       "          )\n",
       "          (output): BertOutput(\n",
       "            (dense): Linear(in_features=3072, out_features=768, bias=True)\n",
       "            (LayerNorm): LayerNorm((768,), eps=1e-12, elementwise_affine=True)\n",
       "            (dropout): Dropout(p=0.1, inplace=False)\n",
       "          )\n",
       "        )\n",
       "        (6): BertLayer(\n",
       "          (attention): BertAttention(\n",
       "            (self): BertSelfAttention(\n",
       "              (query): Linear(in_features=768, out_features=768, bias=True)\n",
       "              (key): Linear(in_features=768, out_features=768, bias=True)\n",
       "              (value): Linear(in_features=768, out_features=768, bias=True)\n",
       "              (dropout): Dropout(p=0.1, inplace=False)\n",
       "            )\n",
       "            (output): BertSelfOutput(\n",
       "              (dense): Linear(in_features=768, out_features=768, bias=True)\n",
       "              (LayerNorm): LayerNorm((768,), eps=1e-12, elementwise_affine=True)\n",
       "              (dropout): Dropout(p=0.1, inplace=False)\n",
       "            )\n",
       "          )\n",
       "          (intermediate): BertIntermediate(\n",
       "            (dense): Linear(in_features=768, out_features=3072, bias=True)\n",
       "          )\n",
       "          (output): BertOutput(\n",
       "            (dense): Linear(in_features=3072, out_features=768, bias=True)\n",
       "            (LayerNorm): LayerNorm((768,), eps=1e-12, elementwise_affine=True)\n",
       "            (dropout): Dropout(p=0.1, inplace=False)\n",
       "          )\n",
       "        )\n",
       "        (7): BertLayer(\n",
       "          (attention): BertAttention(\n",
       "            (self): BertSelfAttention(\n",
       "              (query): Linear(in_features=768, out_features=768, bias=True)\n",
       "              (key): Linear(in_features=768, out_features=768, bias=True)\n",
       "              (value): Linear(in_features=768, out_features=768, bias=True)\n",
       "              (dropout): Dropout(p=0.1, inplace=False)\n",
       "            )\n",
       "            (output): BertSelfOutput(\n",
       "              (dense): Linear(in_features=768, out_features=768, bias=True)\n",
       "              (LayerNorm): LayerNorm((768,), eps=1e-12, elementwise_affine=True)\n",
       "              (dropout): Dropout(p=0.1, inplace=False)\n",
       "            )\n",
       "          )\n",
       "          (intermediate): BertIntermediate(\n",
       "            (dense): Linear(in_features=768, out_features=3072, bias=True)\n",
       "          )\n",
       "          (output): BertOutput(\n",
       "            (dense): Linear(in_features=3072, out_features=768, bias=True)\n",
       "            (LayerNorm): LayerNorm((768,), eps=1e-12, elementwise_affine=True)\n",
       "            (dropout): Dropout(p=0.1, inplace=False)\n",
       "          )\n",
       "        )\n",
       "        (8): BertLayer(\n",
       "          (attention): BertAttention(\n",
       "            (self): BertSelfAttention(\n",
       "              (query): Linear(in_features=768, out_features=768, bias=True)\n",
       "              (key): Linear(in_features=768, out_features=768, bias=True)\n",
       "              (value): Linear(in_features=768, out_features=768, bias=True)\n",
       "              (dropout): Dropout(p=0.1, inplace=False)\n",
       "            )\n",
       "            (output): BertSelfOutput(\n",
       "              (dense): Linear(in_features=768, out_features=768, bias=True)\n",
       "              (LayerNorm): LayerNorm((768,), eps=1e-12, elementwise_affine=True)\n",
       "              (dropout): Dropout(p=0.1, inplace=False)\n",
       "            )\n",
       "          )\n",
       "          (intermediate): BertIntermediate(\n",
       "            (dense): Linear(in_features=768, out_features=3072, bias=True)\n",
       "          )\n",
       "          (output): BertOutput(\n",
       "            (dense): Linear(in_features=3072, out_features=768, bias=True)\n",
       "            (LayerNorm): LayerNorm((768,), eps=1e-12, elementwise_affine=True)\n",
       "            (dropout): Dropout(p=0.1, inplace=False)\n",
       "          )\n",
       "        )\n",
       "        (9): BertLayer(\n",
       "          (attention): BertAttention(\n",
       "            (self): BertSelfAttention(\n",
       "              (query): Linear(in_features=768, out_features=768, bias=True)\n",
       "              (key): Linear(in_features=768, out_features=768, bias=True)\n",
       "              (value): Linear(in_features=768, out_features=768, bias=True)\n",
       "              (dropout): Dropout(p=0.1, inplace=False)\n",
       "            )\n",
       "            (output): BertSelfOutput(\n",
       "              (dense): Linear(in_features=768, out_features=768, bias=True)\n",
       "              (LayerNorm): LayerNorm((768,), eps=1e-12, elementwise_affine=True)\n",
       "              (dropout): Dropout(p=0.1, inplace=False)\n",
       "            )\n",
       "          )\n",
       "          (intermediate): BertIntermediate(\n",
       "            (dense): Linear(in_features=768, out_features=3072, bias=True)\n",
       "          )\n",
       "          (output): BertOutput(\n",
       "            (dense): Linear(in_features=3072, out_features=768, bias=True)\n",
       "            (LayerNorm): LayerNorm((768,), eps=1e-12, elementwise_affine=True)\n",
       "            (dropout): Dropout(p=0.1, inplace=False)\n",
       "          )\n",
       "        )\n",
       "        (10): BertLayer(\n",
       "          (attention): BertAttention(\n",
       "            (self): BertSelfAttention(\n",
       "              (query): Linear(in_features=768, out_features=768, bias=True)\n",
       "              (key): Linear(in_features=768, out_features=768, bias=True)\n",
       "              (value): Linear(in_features=768, out_features=768, bias=True)\n",
       "              (dropout): Dropout(p=0.1, inplace=False)\n",
       "            )\n",
       "            (output): BertSelfOutput(\n",
       "              (dense): Linear(in_features=768, out_features=768, bias=True)\n",
       "              (LayerNorm): LayerNorm((768,), eps=1e-12, elementwise_affine=True)\n",
       "              (dropout): Dropout(p=0.1, inplace=False)\n",
       "            )\n",
       "          )\n",
       "          (intermediate): BertIntermediate(\n",
       "            (dense): Linear(in_features=768, out_features=3072, bias=True)\n",
       "          )\n",
       "          (output): BertOutput(\n",
       "            (dense): Linear(in_features=3072, out_features=768, bias=True)\n",
       "            (LayerNorm): LayerNorm((768,), eps=1e-12, elementwise_affine=True)\n",
       "            (dropout): Dropout(p=0.1, inplace=False)\n",
       "          )\n",
       "        )\n",
       "        (11): BertLayer(\n",
       "          (attention): BertAttention(\n",
       "            (self): BertSelfAttention(\n",
       "              (query): Linear(in_features=768, out_features=768, bias=True)\n",
       "              (key): Linear(in_features=768, out_features=768, bias=True)\n",
       "              (value): Linear(in_features=768, out_features=768, bias=True)\n",
       "              (dropout): Dropout(p=0.1, inplace=False)\n",
       "            )\n",
       "            (output): BertSelfOutput(\n",
       "              (dense): Linear(in_features=768, out_features=768, bias=True)\n",
       "              (LayerNorm): LayerNorm((768,), eps=1e-12, elementwise_affine=True)\n",
       "              (dropout): Dropout(p=0.1, inplace=False)\n",
       "            )\n",
       "          )\n",
       "          (intermediate): BertIntermediate(\n",
       "            (dense): Linear(in_features=768, out_features=3072, bias=True)\n",
       "          )\n",
       "          (output): BertOutput(\n",
       "            (dense): Linear(in_features=3072, out_features=768, bias=True)\n",
       "            (LayerNorm): LayerNorm((768,), eps=1e-12, elementwise_affine=True)\n",
       "            (dropout): Dropout(p=0.1, inplace=False)\n",
       "          )\n",
       "        )\n",
       "      )\n",
       "    )\n",
       "    (pooler): BertPooler(\n",
       "      (dense): Linear(in_features=768, out_features=768, bias=True)\n",
       "      (activation): Tanh()\n",
       "    )\n",
       "  )\n",
       "  (drop): Dropout(p=0.2, inplace=False)\n",
       "  (sigmoid): Sigmoid()\n",
       "  (out): Linear(in_features=768, out_features=1, bias=True)\n",
       ")"
      ]
     },
     "execution_count": 28,
     "metadata": {},
     "output_type": "execute_result"
    }
   ],
   "source": [
    "# Initialize the model\n",
    "model = sentiment_classification()\n",
    "\n",
    "# Send the model to gpu\n",
    "device = torch.device(\"cuda:0\" if torch.cuda.is_available() else \"cpu\")\n",
    "model.to(device)"
   ]
  },
  {
   "cell_type": "markdown",
   "metadata": {},
   "source": [
    "Scheduler : Create a schedule with a learning rate that decreases linearly from the initial lr set in the optimizer to 0, after a warmup period during which it increases linearly from 0 to the initial lr set in the optimizer.\n"
   ]
  },
  {
   "cell_type": "code",
   "execution_count": 29,
   "metadata": {},
   "outputs": [],
   "source": [
    "ADAM_LR_RATE = 2e-5 #default = 1e-3\n",
    "num_warmup_step = 0 \n",
    "num_training_steps = len(train_dataloader)*EPOCH"
   ]
  },
  {
   "cell_type": "code",
   "execution_count": 30,
   "metadata": {},
   "outputs": [],
   "source": [
    "#loss_fn\n",
    "loss_fn = torch.nn.BCELoss().to(device)\n",
    "\n",
    "#optimizer\n",
    "optimizer = AdamW(model.parameters(), \n",
    "                  lr = ADAM_LR_RATE,\n",
    "                  correct_bias = False,\n",
    "                  betas = (0.9,0.99)\n",
    "                 )\n",
    "\n",
    "# scheduler (warmup): for highly differentiated dataset to prevent early over-fitting and skewness \n",
    "# https://stackoverflow.com/questions/55933867/what-does-learning-rate-warm-up-mean\n",
    "schedule = get_linear_schedule_with_warmup(optimizer,\n",
    "                                           num_warmup_steps= 0,\n",
    "                                           num_training_steps = num_training_steps)\n"
   ]
  },
  {
   "cell_type": "markdown",
   "metadata": {},
   "source": [
    "### Training iteration "
   ]
  },
  {
   "cell_type": "markdown",
   "metadata": {},
   "source": [
    "#### Train Function "
   ]
  },
  {
   "cell_type": "code",
   "execution_count": 31,
   "metadata": {},
   "outputs": [],
   "source": [
    "def train_fn(model, dataloader, device, loss_fn, optimizer, schedule, n_train):\n",
    "    \n",
    "    # Set model to training mode\n",
    "    model = model.train()\n",
    "    \n",
    "    # For calculating loss\n",
    "    loss_batch =[]\n",
    "    correct_prediction = 0\n",
    "    #count = 0\n",
    "    for data in dataloader:\n",
    "        #if count != 0:\n",
    "        #    break\n",
    "        #count += 1\n",
    "        # Send item from dataloader to gpu\n",
    "        input_ids  = data['input_ids'].to(device)\n",
    "        attention_mask = data['attention_mask'].to(device)\n",
    "        label = data['label'].float().unsqueeze(1).to(device)\n",
    "        \n",
    "        optimizer.zero_grad()\n",
    "        \n",
    "        #output \n",
    "        output = model(input_ids = input_ids,\n",
    "                       attention_mask = attention_mask\n",
    "                      )\n",
    "        \n",
    "        pred = torch.Tensor([[1] if output_ >= 0.5 else [0] for output_ in output]).to(device)\n",
    "\n",
    "        #print(f'output = {output}')\n",
    "        #print(f'pred = {pred}')\n",
    "        #print(f'label = {label}')\n",
    "        #print(f'sum: {torch.sum(pred == label)}')\n",
    "        # loss\n",
    "        loss = loss_fn(output,label)\n",
    "        correct_prediction += torch.sum(pred == label) ## record the correct prediction of the currect batch\n",
    "        #print(correct_prediction)\n",
    "        loss_batch.append(loss.item()) ## record loss of the current batch\n",
    "        loss.backward() ## backpropagation \n",
    "        nn.utils.clip_grad_norm_(model.parameters(), max_norm = 1.0)\n",
    "        \n",
    "        optimizer.step()\n",
    "        schedule.step()\n",
    "        \n",
    "    return correct_prediction/n_train, np.mean(loss_batch)"
   ]
  },
  {
   "cell_type": "markdown",
   "metadata": {},
   "source": [
    "#### Evaluaton Function\n"
   ]
  },
  {
   "cell_type": "code",
   "execution_count": 32,
   "metadata": {},
   "outputs": [],
   "source": [
    "def eval_fn(model, dataloader, device, loss_fn, n_eval):\n",
    "    \n",
    "    #Set model to evaluation mode\n",
    "    model = model.eval()\n",
    "    \n",
    "    #For calculating losses\n",
    "    loss_batch = []\n",
    "    correct_prediction = 0\n",
    "    #count = 0\n",
    "\n",
    "    with torch.no_grad():\n",
    "        for data in dataloader:\n",
    "            #if count != 0:\n",
    "            #    break\n",
    "            #count += 1\n",
    "            #Sent item from dataloader to GPU\n",
    "            input_ids = data['input_ids'].to(device)\n",
    "            attention_mask = data['attention_mask'].to(device)\n",
    "            label = data['label'].float().unsqueeze(1).to(device)\n",
    "            \n",
    "            output = model(input_ids,\n",
    "                           attention_mask)\n",
    "            pred = torch.Tensor([[1] if output_ >= 0.5 else [0] for output_ in output]).to(device)\n",
    "            #print(f'output = {output}')\n",
    "            #print(f'pred = {pred}')\n",
    "            #print(f'label = {label}')\n",
    "            \n",
    "            loss = loss_fn(output, label)\n",
    "            correct_prediction += torch.sum(pred == label)\n",
    "            loss_batch.append(loss.item())\n",
    "            \n",
    "    return correct_prediction/n_eval, np.mean(loss_batch)"
   ]
  },
  {
   "cell_type": "markdown",
   "metadata": {},
   "source": [
    "#### Training loop"
   ]
  },
  {
   "cell_type": "code",
   "execution_count": 33,
   "metadata": {},
   "outputs": [],
   "source": [
    "import time "
   ]
  },
  {
   "cell_type": "code",
   "execution_count": 34,
   "metadata": {
    "scrolled": true
   },
   "outputs": [
    {
     "name": "stdout",
     "output_type": "stream",
     "text": [
      "Epoch: 1/5\n",
      "--------------------\n",
      "Train_accuracy = 0.8936399817466736, Train_loss = 0.4766843391557492\n",
      "\n",
      "Eval_accuracy = 0.8998399972915649, Eval_loss = 0.5922463955428684\n",
      "\n",
      "Time for this epoch = 3409.770713329315 seconds\n",
      "==================== \n",
      "\n",
      "\n",
      "Epoch: 2/5\n",
      "--------------------\n",
      "Train_accuracy = 0.9537599682807922, Train_loss = 0.2583874168983172\n",
      "\n",
      "Eval_accuracy = 0.9285599589347839, Eval_loss = 0.4460175101652462\n",
      "\n",
      "Time for this epoch = 3421.098108291626 seconds\n",
      "==================== \n",
      "\n",
      "\n",
      "Epoch: 3/5\n",
      "--------------------\n",
      "Train_accuracy = 0.9837999939918518, Train_loss = 0.10832869955700182\n",
      "\n",
      "Eval_accuracy = 0.9287199974060059, Eval_loss = 0.5213236451704975\n",
      "\n",
      "Time for this epoch = 3357.166345834732 seconds\n",
      "==================== \n",
      "\n",
      "\n",
      "Epoch: 4/5\n",
      "--------------------\n",
      "Train_accuracy = 0.9955199956893921, Train_loss = 0.036336484515026024\n",
      "\n",
      "Eval_accuracy = 0.91839998960495, Eval_loss = 0.8212861524059432\n",
      "\n",
      "Time for this epoch = 3355.6257185935974 seconds\n",
      "==================== \n",
      "\n",
      "\n",
      "Epoch: 5/5\n",
      "--------------------\n",
      "Train_accuracy = 0.9983599781990051, Train_loss = 0.015098367943884541\n",
      "\n",
      "Eval_accuracy = 0.928879976272583, Eval_loss = 0.759381491471002\n",
      "\n",
      "Time for this epoch = 3351.8356630802155 seconds\n",
      "==================== \n",
      "\n",
      "\n",
      "Total time 16899.97817826271 seconds\n",
      "Best Accuracy = 0.928879976272583\n",
      "Wall time: 4h 41min 39s\n"
     ]
    }
   ],
   "source": [
    "%%time\n",
    "\n",
    "history_epoch = defaultdict(list)\n",
    "best_acc = 0\n",
    "total_time = time.time()\n",
    "for epoch in range(EPOCH):\n",
    "    start_train_time = time.time()\n",
    "    print(f'Epoch: {epoch+1}/{EPOCH}')\n",
    "    print('-'*20)\n",
    "    train_acc, train_loss = train_fn(model,\n",
    "                                     train_dataloader,\n",
    "                                     device,\n",
    "                                     loss_fn,\n",
    "                                     optimizer,\n",
    "                                     schedule,\n",
    "                                     len(train_df)\n",
    "                                     )\n",
    "    end_train_time = time.time()\n",
    "    print(f'Train_accuracy = {train_acc}, Train_loss = {train_loss}')\n",
    "    #print(f'Time for train = {end_train_time - start_train_time } seconds')\n",
    "    print()\n",
    "    eval_acc, eval_loss = eval_fn(model,\n",
    "                                  val_dataloader,\n",
    "                                  device,\n",
    "                                  loss_fn,\n",
    "                                  len(val_df)\n",
    "                                  )\n",
    "    print(f'Eval_accuracy = {eval_acc}, Eval_loss = {eval_loss}')\n",
    "    #print(f'Time for eval = {time.time() -  end_train_time }')\n",
    "    print()\n",
    "    history_epoch['train_acc'].append([train_acc])\n",
    "    history_epoch['train_loss'].append([train_loss])\n",
    "    history_epoch['eval_acc'].append([eval_acc])\n",
    "    history_epoch['eval_loss'].append([eval_loss])\n",
    "    print(f'Time for this epoch = {time.time() - start_train_time} seconds')\n",
    "    print('='*20,'\\n\\n')\n",
    "    if eval_acc > best_acc: \n",
    "        torch.save(model.state_dict(), 'movie_sentimental_classification_pytorch.pt')\n",
    "        best_acc = eval_acc\n",
    "    \n",
    "\n",
    "print(f'Total time {time.time() - total_time} seconds')\n",
    "print(f'Best Accuracy = {best_acc}')"
   ]
  },
  {
   "cell_type": "code",
   "execution_count": 35,
   "metadata": {
    "scrolled": true
   },
   "outputs": [
    {
     "data": {
      "image/png": "[encoded data removed]",
      "text/plain": [
       "<Figure size 432x288 with 1 Axes>"
      ]
     },
     "metadata": {},
     "output_type": "display_data"
    }
   ],
   "source": [
    "plt.plot(history_epoch['train_acc'], label = 'train_accuracy')\n",
    "plt.plot(history_epoch['eval_acc'],  label = 'validation_accuracy')\n",
    "plt.title('Train History')\n",
    "plt.xlabel(\"Epoch\")\n",
    "plt.ylabel('Accuracy')\n",
    "plt.ylim([0.8,1])\n",
    "plt.xticks((0,1,2,3,4))\n",
    "plt.legend()\n",
    "plt.show()\n"
   ]
  },
  {
   "cell_type": "markdown",
   "metadata": {},
   "source": [
    "## Evaluate the model"
   ]
  },
  {
   "cell_type": "code",
   "execution_count": 36,
   "metadata": {
    "scrolled": true
   },
   "outputs": [
    {
     "data": {
      "text/plain": [
       "<All keys matched successfully>"
      ]
     },
     "execution_count": 36,
     "metadata": {},
     "output_type": "execute_result"
    }
   ],
   "source": [
    "checkpoint= torch.load('movie_sentimental_classification_pytorch.pt', map_location=device)\n",
    "model.load_state_dict(checkpoint)"
   ]
  },
  {
   "cell_type": "code",
   "execution_count": 37,
   "metadata": {},
   "outputs": [],
   "source": [
    "def test_fn(model, dataloader, device):\n",
    "    \n",
    "    #Set model to evaluation mode\n",
    "    model = model.eval()\n",
    "    review_list = []\n",
    "    prediction_list = []\n",
    "    prediction_prob_list = []\n",
    "    label_list = []\n",
    "    #count = 0\n",
    "\n",
    "    with torch.no_grad():\n",
    "        for data in dataloader:\n",
    "            \n",
    "            #if count == 2:\n",
    "            #    break\n",
    "            #count += 1\n",
    "            \n",
    "            #Sent item from dataloader to GPU\n",
    "            text = data['reviews']\n",
    "            input_ids = data['input_ids'].to(device)\n",
    "            attention_mask = data['attention_mask'].to(device)\n",
    "            label = data['label'].float().unsqueeze(1).to(device)\n",
    "            \n",
    "            output = model(input_ids,\n",
    "                           attention_mask)\n",
    "            pred = torch.Tensor([[1] if output_ >= 0.5 else [0] for output_ in output]).to(device)\n",
    "            #print(f'output = {output}')\n",
    "            #print(f'pred = {pred}')\n",
    "            #print(f'label = {label}')\n",
    "            \n",
    "            review_list.extend(text)\n",
    "            prediction_list.extend(pred)\n",
    "            prediction_prob_list.extend(output)\n",
    "            label_list.extend(label)\n",
    "        \n",
    "        prediction_list = torch.stack(prediction_list).cpu()\n",
    "        label_list = torch.stack(label_list).cpu()\n",
    "        prediction_prob_list = torch.stack(prediction_prob_list).cpu()\n",
    "    return review_list, prediction_list, prediction_prob_list, label_list"
   ]
  },
  {
   "cell_type": "code",
   "execution_count": 38,
   "metadata": {},
   "outputs": [],
   "source": [
    "y_review, y_pred, y_pred_prob, y_label = test_fn(model,\n",
    "                                                test_dataloader,\n",
    "                                                device\n",
    "                                                )"
   ]
  },
  {
   "cell_type": "markdown",
   "metadata": {},
   "source": [
    "## Vistualize Result"
   ]
  },
  {
   "cell_type": "code",
   "execution_count": 39,
   "metadata": {},
   "outputs": [],
   "source": [
    "class_name = ['Negative','Positive']"
   ]
  },
  {
   "cell_type": "code",
   "execution_count": 40,
   "metadata": {
    "scrolled": true
   },
   "outputs": [
    {
     "name": "stdout",
     "output_type": "stream",
     "text": [
      "              precision    recall  f1-score   support\n",
      "\n",
      "    Negative       0.93      0.93      0.93      6286\n",
      "    Positive       0.93      0.93      0.93      6214\n",
      "\n",
      "    accuracy                           0.93     12500\n",
      "   macro avg       0.93      0.93      0.93     12500\n",
      "weighted avg       0.93      0.93      0.93     12500\n",
      "\n"
     ]
    }
   ],
   "source": [
    "print(classification_report(y_pred, y_label, target_names = class_name))"
   ]
  },
  {
   "cell_type": "markdown",
   "metadata": {},
   "source": [
    "<div class=\"alert alert-block alert-success\">\n",
    "<b>Final Accuracy</b> \n",
    "    \n",
    "    \n",
    "Based on the test data, our model has around 93% accuracy.<br>\n",
    "Performance may enhance if train-val-test ratio change to 60-20-20 or even 70-15-15\n",
    "</div>"
   ]
  },
  {
   "cell_type": "code",
   "execution_count": 41,
   "metadata": {
    "scrolled": false
   },
   "outputs": [
    {
     "data": {
      "text/plain": [
       "Text(0.5, 12.453125, 'Predicted sentiment')"
      ]
     },
     "execution_count": 41,
     "metadata": {},
     "output_type": "execute_result"
    },
    {
     "data": {
      "image/png": "[encoded data removed]",
      "text/plain": [
       "<Figure size 432x288 with 2 Axes>"
      ]
     },
     "metadata": {},
     "output_type": "display_data"
    }
   ],
   "source": [
    "cm = confusion_matrix(y_label, y_pred)\n",
    "df_cm = pd.DataFrame(cm, index = class_name, columns = class_name)\n",
    "hmap = sns.heatmap(df_cm, annot=True, fmt=\"d\", cmap=\"Blues\")\n",
    "\n",
    "hmap.yaxis.set_ticklabels(hmap.yaxis.get_ticklabels(), rotation=0, ha='right')\n",
    "hmap.xaxis.set_ticklabels(hmap.xaxis.get_ticklabels(), rotation=30, ha='right')\n",
    "plt.ylabel('Actual sentiment')\n",
    "plt.xlabel('Predicted sentiment')"
   ]
  },
  {
   "cell_type": "markdown",
   "metadata": {},
   "source": [
    "## Predict Raw Text"
   ]
  },
  {
   "cell_type": "code",
   "execution_count": 50,
   "metadata": {},
   "outputs": [],
   "source": [
    "example = 'I hate this moive'"
   ]
  },
  {
   "cell_type": "code",
   "execution_count": 51,
   "metadata": {},
   "outputs": [],
   "source": [
    "encoded_sent = Tokenizer.__call__(example,\n",
    "                                  add_special_tokens = True,\n",
    "                                  max_length = MAX_LEN,\n",
    "                                  padding = 'max_length',\n",
    "                                  truncation = True,\n",
    "                                  return_attention_mask = True,\n",
    "                                  is_split_into_words=True,\n",
    "                                  return_token_type_ids = False,\n",
    "                                  return_tensors = 'pt'\n",
    "                                )\n",
    "output = model(encoded_sent['input_ids'].to(device),encoded_sent['attention_mask'].to(device))\n",
    "prediction = 'Positive' if output >= 0.5 else 'Negative'"
   ]
  },
  {
   "cell_type": "code",
   "execution_count": 52,
   "metadata": {},
   "outputs": [
    {
     "data": {
      "text/plain": [
       "tensor([[5.4340e-06]], device='cuda:0', grad_fn=<SigmoidBackward>)"
      ]
     },
     "execution_count": 52,
     "metadata": {},
     "output_type": "execute_result"
    }
   ],
   "source": [
    "output"
   ]
  },
  {
   "cell_type": "code",
   "execution_count": 53,
   "metadata": {},
   "outputs": [
    {
     "name": "stdout",
     "output_type": "stream",
     "text": [
      "Text: I hate this moive\n",
      "Prediction: Negative, confidence = 0.9999891319248491\n"
     ]
    },
    {
     "data": {
      "text/plain": [
       "'Negative'"
      ]
     },
     "execution_count": 53,
     "metadata": {},
     "output_type": "execute_result"
    }
   ],
   "source": [
    "if output.item()<0.5:\n",
    "    output =(0.5-output.item())/0.5\n",
    "else: \n",
    "    output =(output.item()-0.5)/0.5\n",
    "print(f'Text: {example}\\nPrediction: {prediction}, confidence = {output}')\n",
    "prediction"
   ]
  },
  {
   "cell_type": "code",
   "execution_count": null,
   "metadata": {},
   "outputs": [],
   "source": []
  }
 ],
 "metadata": {
  "kernelspec": {
   "display_name": "Python 3",
   "language": "python",
   "name": "python3"
  },
  "language_info": {
   "codemirror_mode": {
    "name": "ipython",
    "version": 3
   },
   "file_extension": ".py",
   "mimetype": "text/x-python",
   "name": "python",
   "nbconvert_exporter": "python",
   "pygments_lexer": "ipython3",
   "version": "3.8.3"
  },
  "toc": {
   "base_numbering": 1,
   "nav_menu": {},
   "number_sections": true,
   "sideBar": true,
   "skip_h1_title": false,
   "title_cell": "Table of Contents",
   "title_sidebar": "Contents",
   "toc_cell": true,
   "toc_position": {
    "height": "calc(100% - 180px)",
    "left": "10px",
    "top": "150px",
    "width": "307.2px"
   },
   "toc_section_display": true,
   "toc_window_display": true
  }
 },
 "nbformat": 4,
 "nbformat_minor": 4
}
